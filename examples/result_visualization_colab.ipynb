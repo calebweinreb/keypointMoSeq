{
 "cells": [
  {
   "cell_type": "markdown",
   "metadata": {},
   "source": [
    "## Syllable Analysis\n",
    "\n",
    "#### This notebook demonstrates common analyses of syllable statistics derived from keypoint-MoSeq. \n",
    "\n",
    "- Make a copy of this notebook if you plan to make changes and want them saved\n",
    "- Go to \"Runtime\">\"change runtime type\" and select \"Python 3\". This notebook does not require a GPU.\n",
    "- If you have not already run the keypoint MoSeq tutorial, download [example output](https://drive.google.com/drive/folders/1Fh9gWCsIqvV8Kl2BDtZxVNIH08sn7yxz?usp=share_link) to your drive or create a shortcut to it. \n"
   ]
  },
  {
   "cell_type": "markdown",
   "metadata": {},
   "source": [
    "### Load modeling results\n",
    "\n",
    "- `project_dir` should point to the example data or to the project directory you used for modeling\n",
    "- `name` specifies which modeling output to use; it should be a subdirectory of `project_dir`"
   ]
  },
  {
   "cell_type": "code",
   "execution_count": null,
   "metadata": {},
   "outputs": [],
   "source": [
    "import keypoint_moseq as kpm\n",
    "import os\n",
    "import numpy as np\n",
    "import pandas as pd\n",
    "import matplotlib.pyplot as plt\n",
    "plt.rcParams['figure.dpi'] = 100"
   ]
  },
  {
   "cell_type": "code",
   "execution_count": null,
   "metadata": {},
   "outputs": [],
   "source": [
    "project_dir = 'demo_project'\n",
    "name = '2022_11_19-17_58_32'\n",
    "\n",
    "# define config loader\n",
    "config = lambda: kpm.load_config(project_dir)\n",
    "\n",
    "# load modeling results: `results` is a dict mapping each \n",
    "# experiment to a sub-dict with time-series of model outputs, \n",
    "# including syllable sequence, centroid and heading. \n",
    "results = kpm.load_results(project_dir=project_dir, name=name)"
   ]
  },
  {
   "cell_type": "markdown",
   "metadata": {},
   "source": [
    "### Collate results into a dataframe\n",
    "\n",
    "\n",
    "Combine syllables and scalar-measures of behvior (velocity, centroid, etc.) into a single `DataFrame` that includes all experimental recordings. The `DataFrame` format is required for the remainder of this notebook generally is a useful way to organize data and export it for downstream analysis. \n",
    "\n",
    "#### *The first few rows of `moseq_df` are rendered after the following cell is executed*"
   ]
  },
  {
   "cell_type": "code",
   "execution_count": null,
   "metadata": {},
   "outputs": [],
   "source": [
    "moseq_df = kpm.compute_moseq_df(results, **config())\n",
    "print('moseq_df has shape', moseq_df.shape)\n",
    "moseq_df.head()"
   ]
  },
  {
   "cell_type": "markdown",
   "metadata": {},
   "source": [
    "### Add group labels\n",
    "Use the following cell to assign a group label to each recording. Group labels are required for group-wise comparisons, e.g. to analyze differences in syllable frequency across conditions. \n",
    "- Based on the list of sessions in the dataframe below, create a matching list of group labels.\n",
    "- The n'th group label in your list will be assigned to the session in the n'th row of the dataframe"
   ]
  },
  {
   "cell_type": "code",
   "execution_count": null,
   "metadata": {},
   "outputs": [],
   "source": [
    "group_lbl_df = moseq_df[['session_name', 'uuid']].drop_duplicates(['uuid'])\n",
    "print('Session information below')\n",
    "group_lbl_df"
   ]
  },
  {
   "cell_type": "markdown",
   "metadata": {},
   "source": [
    "#### *The first few rows of `moseq_df` are rendered after the following cell is executed*"
   ]
  },
  {
   "cell_type": "code",
   "execution_count": null,
   "metadata": {},
   "outputs": [],
   "source": [
    "# assign group labels.\n",
    "group_labels = [\n",
    "    'group1',\n",
    "    'group2',\n",
    "    'group1',\n",
    "    'group2',\n",
    "    'group1',\n",
    "    'group1',\n",
    "    'group2',\n",
    "    'group2',\n",
    "    'group1',\n",
    "    'group2',\n",
    "]\n",
    "\n",
    "# merge group labels into moseq_df\n",
    "group_lbl_df['group'] = group_labels\n",
    "group_lbl_df=group_lbl_df.drop(['session_name'], axis=1)\n",
    "moseq_df = pd.merge(moseq_df, group_lbl_df, how = 'right', on='uuid')\n",
    "moseq_df.head()"
   ]
  },
  {
   "cell_type": "markdown",
   "metadata": {},
   "source": [
    "#### [optional] export moseq_df\n",
    "\n",
    "The following command saves `moseq_df` to the csv file `[project_dir]/[name]/moseq_df.csv`"
   ]
  },
  {
   "cell_type": "code",
   "execution_count": null,
   "metadata": {},
   "outputs": [],
   "source": [
    "# moseq_df.to_csv(os.path.join(project_dir, name, 'moseq_df.csv'))"
   ]
  },
  {
   "cell_type": "markdown",
   "metadata": {},
   "source": [
    "### Aggregate statistics for each recording\n",
    "\n",
    "`kpm.compute_stats_df` creates a `stats_df` dataframe with statistical summaries for each recording session and group, including the min, max, mean, and std of scalar values associated with each syllable, as well as each syllable's frequency. `stats_df` is then used to plot syllable statistics and perform hypothesis testing.\n",
    "\n",
    "#### *The first few rows of `stats_df` are rendered after the following cell is executed*"
   ]
  },
  {
   "cell_type": "code",
   "execution_count": null,
   "metadata": {},
   "outputs": [],
   "source": [
    "stats_df = kpm.compute_stats_df(moseq_df, **config())\n",
    "stats_df.head()"
   ]
  },
  {
   "cell_type": "markdown",
   "metadata": {},
   "source": [
    "#### [optional] export moseq_df\n",
    "\n",
    "The following command saves `stats_df` to the csv file `[project_dir]/[name]/stats_df.csv`"
   ]
  },
  {
   "cell_type": "code",
   "execution_count": null,
   "metadata": {},
   "outputs": [],
   "source": [
    "# stats_df.to_csv(os.path.join(project_dir, name, 'stats_df.csv'))"
   ]
  },
  {
   "cell_type": "markdown",
   "metadata": {},
   "source": [
    "### Generate behavioral fingerprint plots\n",
    "Fingerprints plots summarize behavior by showing distributions of kinematic scalars and syllable frequencies."
   ]
  },
  {
   "cell_type": "code",
   "execution_count": null,
   "metadata": {},
   "outputs": [],
   "source": [
    "summary, range_dict = kpm.create_fingerprint_dataframe(moseq_df, stats_df)\n",
    "kpm.plotting_fingerprint(summary, range_dict)"
   ]
  },
  {
   "cell_type": "markdown",
   "metadata": {},
   "source": [
    "### Generate syllable frequency plots\n",
    "Compare the frequency of each syllable across groups"
   ]
  },
  {
   "cell_type": "code",
   "execution_count": null,
   "metadata": {},
   "outputs": [],
   "source": [
    "# groups to be plotted\n",
    "groups = ['group1','group2']\n",
    "\n",
    "# name of the control group\n",
    "ctrl_group = ['group1']\n",
    "\n",
    "# name of the experimental group\n",
    "exp_group = ['group2']\n",
    "\n",
    "kpm.plot_syll_stats_with_sem(stats_df, groups=groups, ctrl_group=ctrl_group, exp_group=exp_group)"
   ]
  },
  {
   "cell_type": "markdown",
   "metadata": {},
   "source": [
    "## Transition matrices\n",
    "Transition matrices compactly represent the frequency any syllable transitions into any other syllable and is one way to describe structure in behavior.\n",
    "The row of the transition matrix represents an incoming syllable, while the column represents the outgoing syllable and the value at a specific row and column position represent the frequency the incoming syllable transitions into the outgoing syllable.\n",
    "\n",
    "These plots can help visualize gross changes in the structure of behavior between two experimental groups. For example, certain syllables that frequently transition into one set of syllables in one experimental condition might transition into a completely different set in another experimental condition."
   ]
  },
  {
   "cell_type": "code",
   "execution_count": null,
   "metadata": {},
   "outputs": [],
   "source": [
    "# set maximum syllable to include\n",
    "max_syllables = int(stats_df.syllable.max())\n",
    "print('maximum syllable to include:', max_syllables)\n",
    "# select a transition matrix normalization method\n",
    "normalize='bigram' # options: bigram, columns, rows\n",
    "\n",
    "# Get modeled session uuids to compute group-mean transition graph for each group\n",
    "syll_key = 'syllables_reindexed'\n",
    "uuid_groups = stats_df[['uuid', 'group', 'session_name']].drop_duplicates(['uuid']).to_numpy()\n",
    "label_group, uuids, sessions = uuid_groups[:,1], uuid_groups[:, 0], uuid_groups[:,2]\n",
    "group = list(set(label_group))\n",
    "print('Group(s):', ', '.join(group))\n",
    "model_labels = [results[session][syll_key] for session in sessions]\n",
    "# compute transition matrices and usages for each group\n",
    "trans_mats, usages = kpm.get_group_trans_mats(model_labels, label_group, group, max_sylls=max_syllables, normalize=normalize)\n"
   ]
  },
  {
   "cell_type": "code",
   "execution_count": null,
   "metadata": {},
   "outputs": [],
   "source": [
    "# plot the trnsition matrices\n",
    "fig, ax = plt.subplots(1, len(group), figsize=(12, 15), sharex=False, sharey=True)\n",
    "title_map = dict(bigram='Bigram', columns='Incoming', rows='Outgoing')\n",
    "\n",
    "# max color threshold for graphs - set to any value \n",
    "color_lim = max([x.max() for x in trans_mats])\n",
    "\n",
    "for i, g in enumerate(group):\n",
    "    h = ax[i].imshow(trans_mats[i][:max_syllables,:max_syllables], cmap='cubehelix', vmax=color_lim)\n",
    "    if i == 0:\n",
    "        ax[i].set_ylabel('Incoming syllable')\n",
    "        plt.yticks(np.arange(0, max_syllables, 4))\n",
    "    cb = fig.colorbar(h, ax=ax[i], fraction=0.046, pad=0.04)\n",
    "    cb.set_label(f'{title_map[normalize]} transition probability')\n",
    "    ax[i].set_xlabel('Outgoing syllable')\n",
    "    ax[i].set_title(g)\n",
    "    ax[i].set_xticks(np.arange(0, max_syllables, 4))\n",
    "    "
   ]
  },
  {
   "cell_type": "code",
   "execution_count": null,
   "metadata": {},
   "outputs": [],
   "source": []
  }
 ],
 "metadata": {
  "kernelspec": {
   "display_name": "keypoint_moseq",
   "language": "python",
   "name": "keypoint_moseq"
  },
  "language_info": {
   "codemirror_mode": {
    "name": "ipython",
    "version": 3
   },
   "file_extension": ".py",
   "mimetype": "text/x-python",
   "name": "python",
   "nbconvert_exporter": "python",
   "pygments_lexer": "ipython3",
   "version": "3.9.13"
  },
  "varInspector": {
   "cols": {
    "lenName": 16,
    "lenType": 16,
    "lenVar": 40
   },
   "kernels_config": {
    "python": {
     "delete_cmd_postfix": "",
     "delete_cmd_prefix": "del ",
     "library": "var_list.py",
     "varRefreshCmd": "print(var_dic_list())"
    },
    "r": {
     "delete_cmd_postfix": ") ",
     "delete_cmd_prefix": "rm(",
     "library": "var_list.r",
     "varRefreshCmd": "cat(var_dic_list()) "
    }
   },
   "types_to_exclude": [
    "module",
    "function",
    "builtin_function_or_method",
    "instance",
    "_Feature"
   ],
   "window_display": false
  },
  "vscode": {
   "interpreter": {
    "hash": "96b07f6b0d7d6c69561ad5b81ac84f93e130583ec83ca6b62fabbd60f1a007e2"
   }
  }
 },
 "nbformat": 4,
 "nbformat_minor": 2
}
